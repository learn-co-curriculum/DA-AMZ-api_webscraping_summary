{
 "cells": [
  {
   "cell_type": "markdown",
   "id": "f1f3a07e-e33c-43c3-b62e-a0c936fa0bf1",
   "metadata": {},
   "source": [
    "# APIs and Webscraping Summary : Guided Practice"
   ]
  },
  {
   "cell_type": "markdown",
   "id": "610f19cd-ca05-4ec0-8402-a3ba9f284e2d",
   "metadata": {},
   "source": [
    "This week, we learned about a couple of common tools and methods used to acquire data from HTML sources found online.\n",
    " \n",
    " * APIs (Application Programming Interface)\n",
    " * Webscraping\n",
    "\n",
    "### APIs\n",
    "APIs are commonly used to retrieve data from remote websites. Sites like Reddit, Twitter, and Facebook all offer certain data through their APIs. To use an API, you make a specific request to a remote server and retrieve the data you need based on the parameters you have indicated in your request.\n",
    "\n",
    "The HTML page one accesses in an API is a portal to a backend database in websites, which you can query.\n",
    "\n",
    "![](images/web_api.png)\n",
    "> <a href=\"https://commons.wikimedia.org/wiki/File:Web_API.png\">Brivadeneira</a>, <a href=\"https://creativecommons.org/licenses/by-sa/4.0\">CC BY-SA 4.0</a>, via Wikimedia Commons\n",
    "\n",
    "## Parts of an API\n",
    "\n",
    "* **Access Permissions**\n",
    "    + User allowed to ask?\n",
    "* **API Call/Request**\n",
    "    + Code used to make API call to implement complicated tasks/features\n",
    "    + *Methods*: what questions can we ask?\n",
    "    + *Parameters*: more info to be sent\n",
    "* **Response**\n",
    "    + Result of request\n",
    "    \n"
   ]
  },
  {
   "cell_type": "markdown",
   "id": "28554c4f-bca9-4d7f-a05c-05321e7217e2",
   "metadata": {},
   "source": [
    "## Secure APIs vs Insecure APIs\n",
    "\n",
    "We saw after the lessons of last week that there may be security differences between APIs that we might interact with.\n",
    "We first took a look at OpenNotify, an insecure API that gives the past, current and projected locations of the ISS (international space station) in the night sky. What makes this an insecure API is that it does not require the client or user making requests, to identify themselves or \"authenticate\". This was unlike our experience with the yelp API, which required us to create an account and generate an API that we could use to authenticate our requests (identify ourselves)."
   ]
  },
  {
   "cell_type": "code",
   "execution_count": 1,
   "id": "ca1a5bc6-8cea-45ad-afde-fcb733fbda96",
   "metadata": {},
   "outputs": [],
   "source": [
    "import requests\n",
    "\n",
    "url = 'http://api.open-notify.org/iss-now.json'\n",
    "iss_response = requests.get(url)"
   ]
  },
  {
   "cell_type": "code",
   "execution_count": 2,
   "id": "3d908784-8158-4365-80f7-47ee4374ef9c",
   "metadata": {},
   "outputs": [
    {
     "data": {
      "text/plain": [
       "requests.models.Response"
      ]
     },
     "execution_count": 2,
     "metadata": {},
     "output_type": "execute_result"
    }
   ],
   "source": [
    "type(iss_response)"
   ]
  },
  {
   "cell_type": "code",
   "execution_count": 3,
   "id": "acaef1c8-ad37-4562-bf8c-ed2f7ca2f129",
   "metadata": {},
   "outputs": [
    {
     "data": {
      "text/plain": [
       "200"
      ]
     },
     "execution_count": 3,
     "metadata": {},
     "output_type": "execute_result"
    }
   ],
   "source": [
    "iss_response.status_code"
   ]
  },
  {
   "cell_type": "markdown",
   "id": "e5d3c90b-bf1b-46ce-87e2-7af2c96f839d",
   "metadata": {},
   "source": [
    "#### Status Codes\n",
    "\n",
    "The request we make may not always be successful. The best way is to check the status code which gets returned with the response: `response.status_code`"
   ]
  },
  {
   "cell_type": "markdown",
   "id": "a94b3f80-21d2-45db-a8d2-297af3839607",
   "metadata": {},
   "source": [
    "for more extensive descriptions of different status codes:\n",
    "\n",
    "[Status Code Info](https://developer.mozilla.org/en-US/docs/Web/HTTP/Status) <br/>"
   ]
  },
  {
   "cell_type": "code",
   "execution_count": 4,
   "id": "a6f954be-5d2f-44bc-9be1-a3db53ec8217",
   "metadata": {},
   "outputs": [
    {
     "data": {
      "text/plain": [
       "b'{\"iss_position\": {\"longitude\": \"37.2389\", \"latitude\": \"35.5545\"}, \"message\": \"success\", \"timestamp\": 1652465480}'"
      ]
     },
     "execution_count": 4,
     "metadata": {},
     "output_type": "execute_result"
    }
   ],
   "source": [
    "iss_response.content"
   ]
  },
  {
   "cell_type": "markdown",
   "id": "b57e0557-09da-48de-a1aa-8fdc02d9a0df",
   "metadata": {},
   "source": [
    "#### Endpoints"
   ]
  },
  {
   "cell_type": "markdown",
   "id": "6f2ee8dc-6f3f-4273-8658-d76e0ae3ce85",
   "metadata": {},
   "source": [
    "OpenNotify has several API **endpoints**. We just made a request to the `iss-now` endpoint. An endpoint is a server route that is used to retrieve different data from the API. For example, the `/comments` endpoint on the Reddit API might retrieve information about comments, whereas the `/users` endpoint might retrieve data about users. To access them, you would add the endpoint to the base url of the API."
   ]
  },
  {
   "cell_type": "code",
   "execution_count": 5,
   "id": "e5e0570b-25a2-4ce1-8622-c5c00340c733",
   "metadata": {},
   "outputs": [
    {
     "name": "stdout",
     "output_type": "stream",
     "text": [
      "200\n"
     ]
    }
   ],
   "source": [
    "# Let's check out who is in space right now!\n",
    "\n",
    "url = 'http://api.open-notify.org/astros.json'\n",
    "astro_response = requests.get(url)\n",
    "print(astro_response.status_code)"
   ]
  },
  {
   "cell_type": "code",
   "execution_count": 6,
   "id": "fe5687c1-eebf-41f8-b3c4-420db9a9c67c",
   "metadata": {},
   "outputs": [
    {
     "data": {
      "text/plain": [
       "b'{\"message\": \"success\", \"number\": 11, \"people\": [{\"name\": \"Raja Chari\", \"craft\": \"ISS\"}, {\"name\": \"Tom Marshburn\", \"craft\": \"ISS\"}, {\"name\": \"Kayla Barron\", \"craft\": \"ISS\"}, {\"name\": \"Matthias Maurer\", \"craft\": \"ISS\"}, {\"name\": \"Oleg Artemyev\", \"craft\": \"ISS\"}, {\"name\": \"Denis Matveev\", \"craft\": \"ISS\"}, {\"name\": \"Sergey Korsakov\", \"craft\": \"ISS\"}, {\"name\": \"Kjell Lindgren\", \"craft\": \"ISS\"}, {\"name\": \"Bob Hines\", \"craft\": \"ISS\"}, {\"name\": \"Samantha Cristoforetti\", \"craft\": \"ISS\"}, {\"name\": \"Jessica Watkins\", \"craft\": \"ISS\"}]}'"
      ]
     },
     "execution_count": 6,
     "metadata": {},
     "output_type": "execute_result"
    }
   ],
   "source": [
    "astro_response.content"
   ]
  },
  {
   "cell_type": "code",
   "execution_count": 7,
   "id": "ff4f377f-efe2-425d-a631-6bf1fce2a3a8",
   "metadata": {},
   "outputs": [
    {
     "data": {
      "text/plain": [
       "bytes"
      ]
     },
     "execution_count": 7,
     "metadata": {},
     "output_type": "execute_result"
    }
   ],
   "source": [
    "type(astro_response.content)"
   ]
  },
  {
   "cell_type": "code",
   "execution_count": 8,
   "id": "2e33c6af-e712-4615-882f-e394d525efc3",
   "metadata": {},
   "outputs": [
    {
     "data": {
      "text/plain": [
       "'{\"message\": \"success\", \"number\": 11, \"people\": [{\"name\": \"Raja Chari\", \"craft\": \"ISS\"}, {\"name\": \"Tom Marshburn\", \"craft\": \"ISS\"}, {\"name\": \"Kayla Barron\", \"craft\": \"ISS\"}, {\"name\": \"Matthias Maurer\", \"craft\": \"ISS\"}, {\"name\": \"Oleg Artemyev\", \"craft\": \"ISS\"}, {\"name\": \"Denis Matveev\", \"craft\": \"ISS\"}, {\"name\": \"Sergey Korsakov\", \"craft\": \"ISS\"}, {\"name\": \"Kjell Lindgren\", \"craft\": \"ISS\"}, {\"name\": \"Bob Hines\", \"craft\": \"ISS\"}, {\"name\": \"Samantha Cristoforetti\", \"craft\": \"ISS\"}, {\"name\": \"Jessica Watkins\", \"craft\": \"ISS\"}]}'"
      ]
     },
     "execution_count": 8,
     "metadata": {},
     "output_type": "execute_result"
    }
   ],
   "source": [
    "astro_response.text"
   ]
  },
  {
   "cell_type": "code",
   "execution_count": 11,
   "id": "a1197cc3-ab72-41f5-a510-05e12147028f",
   "metadata": {},
   "outputs": [
    {
     "name": "stdout",
     "output_type": "stream",
     "text": [
      "<class 'str'>\n"
     ]
    }
   ],
   "source": [
    "print(type(astro_response.text))"
   ]
  },
  {
   "cell_type": "markdown",
   "id": "8c95a31f-be5a-44fd-bb60-b782c42cb515",
   "metadata": {},
   "source": [
    "Most times we perform requests, the data we obtain will be in a json format, thus we can make use of out json library to parse our data."
   ]
  },
  {
   "cell_type": "code",
   "execution_count": 12,
   "id": "954eac91-097c-43f2-abf5-0d4a2c9d619e",
   "metadata": {},
   "outputs": [
    {
     "data": {
      "text/plain": [
       "dict_keys(['message', 'number', 'people'])"
      ]
     },
     "execution_count": 12,
     "metadata": {},
     "output_type": "execute_result"
    }
   ],
   "source": [
    "astro_data = astro_response.json()\n",
    "astro_data.keys()"
   ]
  },
  {
   "cell_type": "markdown",
   "id": "54ca3db8-adad-47bb-af91-90578af1d3fa",
   "metadata": {},
   "source": [
    "#### Hitting the right endpoint"
   ]
  },
  {
   "cell_type": "code",
   "execution_count": 16,
   "id": "98305bb8-c8e4-4abd-9e51-cd475cd3d932",
   "metadata": {},
   "outputs": [
    {
     "data": {
      "text/plain": [
       "400"
      ]
     },
     "execution_count": 16,
     "metadata": {},
     "output_type": "execute_result"
    }
   ],
   "source": [
    "#lets make a request to the iss-pass.json enpoint\n",
    "\n",
    "iss_pass_url = 'http://api.open-notify.org/iss-pass.json'\n",
    "response = requests.get(iss_pass_url)\n",
    "response.status_code"
   ]
  },
  {
   "cell_type": "code",
   "execution_count": 18,
   "id": "213e91d2-20b6-4f0a-b2fa-6ba5d06ea7ed",
   "metadata": {},
   "outputs": [
    {
     "data": {
      "text/plain": [
       "b'{\\n  \"message\": \"failure\", \\n  \"reason\": \"Latitude must be specified\"\\n}\\n'"
      ]
     },
     "execution_count": 18,
     "metadata": {},
     "output_type": "execute_result"
    }
   ],
   "source": [
    "# lets take a look at the response message by inspecting response.content\n",
    "response.content"
   ]
  },
  {
   "cell_type": "markdown",
   "id": "9acde8bf-1226-4b53-b343-122f9bef01ba",
   "metadata": {},
   "source": [
    "#### Query Parameters"
   ]
  },
  {
   "cell_type": "markdown",
   "id": "f1795b64-a814-40dd-aa2a-4cc25a24dbcf",
   "metadata": {},
   "source": [
    "If you look at the [documentation](https://web.archive.org/web/20201224141953/http://open-notify.org/Open-Notify-API/ISS-Pass-Times/), we see that the ISS Pass endpoint requires two parameters.\n",
    "\n",
    "We can do this by adding an optional keyword argument, params, to our request. In this case, there are two parameters we need to pass:\n",
    "\n",
    "* lat — The latitude of the location we want.\n",
    "* lon — The longitude of the location we want.\n",
    "\n",
    "We can make a dictionary with these parameters, and then pass them into the `requests.get()` method. We’ll make a request using the coordinates of New York City, and see what response we get.\n",
    "\n",
    "We can also add the query parameters to the url, like this: http://api.open-notify.org/iss-pass.json?lat=47.6&lon=-122.3. However, it’s almost always preferable to pass the parameters as a dictionary, because `requests` takes care of some potential issues, like properly formatting the query parameters."
   ]
  },
  {
   "cell_type": "code",
   "execution_count": 19,
   "id": "a0dcd4e2-f652-4fa9-bfe7-877592a4059f",
   "metadata": {},
   "outputs": [
    {
     "name": "stdout",
     "output_type": "stream",
     "text": [
      "{\n",
      "  \"message\": \"success\", \n",
      "  \"request\": {\n",
      "    \"altitude\": 100, \n",
      "    \"datetime\": 1652466692, \n",
      "    \"latitude\": 40.7, \n",
      "    \"longitude\": -74.0, \n",
      "    \"passes\": 5\n",
      "  }, \n",
      "  \"response\": [\n",
      "    {\n",
      "      \"duration\": 492, \n",
      "      \"risetime\": 1652487430\n",
      "    }, \n",
      "    {\n",
      "      \"duration\": 649, \n",
      "      \"risetime\": 1652493124\n",
      "    }, \n",
      "    {\n",
      "      \"duration\": 600, \n",
      "      \"risetime\": 1652498973\n",
      "    }, \n",
      "    {\n",
      "      \"duration\": 553, \n",
      "      \"risetime\": 1652504860\n",
      "    }, \n",
      "    {\n",
      "      \"duration\": 608, \n",
      "      \"risetime\": 1652510693\n",
      "    }\n",
      "  ]\n",
      "}\n",
      "\n"
     ]
    }
   ],
   "source": [
    "# Our code here\n",
    "\n",
    "response = requests.get(iss_pass_url,\n",
    "            params={'lat': 40.7, 'lon': -74})\n",
    "\n",
    "# Print the content of the response (the data the server returned)\n",
    "\n",
    "print(response.text)\n",
    "\n",
    "# This gets the same data as the command above:\n",
    "# requests.get(\"http://api.open-notify.org/iss-pass.json?lat=40.71&lon=-74\")"
   ]
  },
  {
   "cell_type": "markdown",
   "id": "29330aa7-21cb-4022-ac26-b80e3f8af1e0",
   "metadata": {},
   "source": [
    "For an exercise with a secure api that requires authentication refer to your canvas assignment: `Using the Yelp API - codealong`"
   ]
  },
  {
   "cell_type": "markdown",
   "id": "07f99121-6d4f-4c4b-b644-79057ef00250",
   "metadata": {},
   "source": [
    "### Webscraping"
   ]
  },
  {
   "cell_type": "markdown",
   "id": "0cd88267-b12f-44be-891d-bcb9df6f790e",
   "metadata": {},
   "source": [
    "There is publicly available data all over the internet ripe for scraping, whether that be artist information data from wikipedia, song lyrics from songlyrics.com, or texts of famous books from Project Gutenberg."
   ]
  },
  {
   "cell_type": "markdown",
   "id": "78e49ac7-7614-45d5-a44c-d73706cebf20",
   "metadata": {
    "heading_collapsed": true,
    "hidden": true
   },
   "source": [
    "#### The components of a web page"
   ]
  },
  {
   "cell_type": "markdown",
   "id": "654041f9-21e4-4925-a3f0-9337d317b80d",
   "metadata": {},
   "source": [
    "When we visit a web page, our web browser makes a GET request to a web server. The server then sends back files that tell our browser how to render the page for us. The files fall into a few main types:\n",
    "\n",
    "- HTML — contain the main content of the page.\n",
    "- CSS — add styling to make the page look nicer.\n",
    "- JS — Javascript files add interactivity to web pages.\n",
    "- Images — image formats, such as JPG and PNG allow web pages to show pictures.\n",
    "\n",
    "After our browser receives all the files, it renders the page and displays it to us. There’s a lot that happens behind the scenes to render a page nicely, but we don’t need to worry about most of it when we’re web scraping."
   ]
  },
  {
   "cell_type": "markdown",
   "id": "bd0d93b6-113e-4f3f-b355-9a7bacdfff86",
   "metadata": {
    "heading_collapsed": true,
    "hidden": true
   },
   "source": [
    "#### HTML"
   ]
  },
  {
   "cell_type": "markdown",
   "id": "352803f2-baf6-46dd-a85a-88eb84a1e68b",
   "metadata": {},
   "source": [
    "HyperText Markup Language (HTML) is a language that web pages are created in. HTML isn’t a programming language, like Python — instead, it’s a markup language that tells a browser how to layout content. \n",
    "\n",
    "Let’s take a quick tour through HTML so we know enough to scrape effectively. HTML consists of elements called tags. The most basic tag is the `<html>` tag. This tag tells the web browser that everything inside of it is HTML. We can make a simple HTML document just using this tag:\n",
    "\n",
    "~~~html\n",
    "<html>\n",
    "</html>\n",
    "~~~"
   ]
  },
  {
   "cell_type": "markdown",
   "id": "77e7264d-016a-4131-aad3-ac387551c058",
   "metadata": {},
   "source": [
    "Right inside an html tag, we put two other tags, the head tag, and the body tag. The main content of the web page goes into the body tag. The head tag contains data about the title of the page, and other information that generally isn’t useful in web scraping:\n",
    "\n",
    "~~~html\n",
    "<html>\n",
    "    <head>\n",
    "    </head>\n",
    "    <body>\n",
    "    </body>\n",
    "</html>\n",
    "~~~"
   ]
  },
  {
   "cell_type": "markdown",
   "id": "780932f6-6d0a-4bf5-bf46-62271943a9eb",
   "metadata": {},
   "source": [
    "We’ll now add our first content to the page, in the form of the p tag. The p tag defines a paragraph, and any text inside the tag is shown as a separate paragraph:\n",
    "~~~html\n",
    "<html>\n",
    "    <head>\n",
    "    </head>\n",
    "    <body>\n",
    "          <p>\n",
    "            Here's a paragraph of text!\n",
    "        </p>\n",
    "        <p>\n",
    "            Here's a second paragraph of text!\n",
    "        </p>\n",
    "    </body>\n",
    "</html>\n",
    "~~~"
   ]
  },
  {
   "cell_type": "markdown",
   "id": "988b5e31-b116-4ca1-a40d-02a411774f26",
   "metadata": {},
   "source": [
    "<html>\n",
    "    <head>\n",
    "    </head>\n",
    "    <body>\n",
    "          <p>\n",
    "            Here's a paragraph of text!\n",
    "        </p>\n",
    "        <p>\n",
    "            Here's a second paragraph of text!\n",
    "        </p>\n",
    "    </body>\n",
    "</html>"
   ]
  },
  {
   "cell_type": "markdown",
   "id": "d0e4ee30-a215-41b7-b4a7-d3221e14a8d7",
   "metadata": {},
   "source": [
    "Tags have commonly used names that depend on their position in relation to other tags:\n",
    "\n",
    "- **child** — a child is a tag inside another tag. So the two p tags above are both children of the body tag.\n",
    "- **parent** — a parent is the tag another tag is inside. Above, the html tag is the parent of the body tag.\n",
    "- **sibiling** — a sibiling is a tag that is nested inside the same parent as another tag. For example, head and body are siblings, since they’re both inside html. Both p tags are siblings, since they’re both inside body."
   ]
  },
  {
   "cell_type": "markdown",
   "id": "43f92a19-1756-433a-aaf9-36d221b53a00",
   "metadata": {},
   "source": [
    "We can also add properties to HTML tags that change their behavior:\n",
    "\n",
    "~~~html\n",
    "<html>\n",
    "  <head></head>\n",
    "  <body>\n",
    "    <p>\n",
    "      Here's a paragraph of text!\n",
    "      <a href=\"https://www.dataquest.io\">Learn Data Science Online</a>\n",
    "    </p>\n",
    "    <p>\n",
    "      Here's a second paragraph of text!\n",
    "      <a href=\"https://www.python.org\">Python</a>        \n",
    "    </p>\n",
    "  </body>\n",
    "</html>\n",
    "~~~"
   ]
  },
  {
   "cell_type": "markdown",
   "id": "b93e81dc-e198-4093-8a07-84e78e6f1246",
   "metadata": {},
   "source": [
    "<html>\n",
    "    <head>\n",
    "    </head>\n",
    "    <body>\n",
    "        <p>\n",
    "            Here's a paragraph of text!\n",
    "            <a href=\"https://www.dataquest.io\">Learn Data Science Online</a>\n",
    "        </p>\n",
    "        <p>\n",
    "            Here's a second paragraph of text!\n",
    "            <a href=\"https://www.python.org\">Python</a>        </p>\n",
    "    </body></html>"
   ]
  },
  {
   "cell_type": "markdown",
   "id": "1d9e26e1-3a20-47ff-89c3-0a702a55a87d",
   "metadata": {},
   "source": [
    "In the above example, we added two a tags. a tags are links, and tell the browser to render a link to another web page. The href property of the tag determines where the link goes.\n",
    "\n",
    "a and p are extremely common html tags. Here are a few others:\n",
    "\n",
    "- *div*: indicates a division, or area, of the page.\n",
    "- *b*: bolds any text inside.\n",
    "- *i*: italicizes any text inside.\n",
    "- *u*: underlines any text inside.\n",
    "- *table*: creates a table.\n",
    "- *form*: creates an input form.\n",
    "\n",
    "\n",
    "For a full list of tags, look [here](https://developer.mozilla.org/en-US/docs/Web/HTML/Element)."
   ]
  },
  {
   "cell_type": "markdown",
   "id": "d53d57ca-795e-4367-82db-de37247c7c46",
   "metadata": {},
   "source": [
    "<html>\n",
    "    <b>bold</b> <br/>\n",
    "    <i>italics</i> <br/>\n",
    "    <u>underlining</u>\n",
    "</html>"
   ]
  },
  {
   "cell_type": "markdown",
   "id": "a3d08ee3-2088-4c64-a42d-3df10f631d2e",
   "metadata": {},
   "source": [
    "There are two special properties that give HTML elements names, and make them easier to interact with when we’re scraping: **class** and **id**. \n",
    "\n",
    "- One element can have multiple classes, and a class can be shared between elements. \n",
    "- Each element can only have one id, and an id can only be used once on a page. \n",
    "- Classes and ids are optional, and not all elements will have them.\n",
    "\n",
    "We can add classes and ids to our example:\n",
    "\n",
    "~~~html\n",
    "<html>\n",
    "    <head>\n",
    "    </head>\n",
    "    <body>\n",
    "        <p class=\"bold-paragraph\">\n",
    "            Here's a paragraph of text!\n",
    "            <a href=\"https://www.dataquest.io\" id=\"learn-link\">Learn Data Science Online</a>\n",
    "        </p>\n",
    "        <p class=\"bold-paragraph extra-large\">\n",
    "            Here's a second paragraph of text!\n",
    "            <a href=\"https://www.python.org\" class=\"extra-large\">Python</a>\n",
    "        </p>\n",
    "    </body>\n",
    "</html>\n",
    "~~~"
   ]
  },
  {
   "cell_type": "markdown",
   "id": "de78dc30-8137-42f3-85a2-1de5eee674bf",
   "metadata": {},
   "source": [
    "These class and element ids are the tags we exploit using packages like Beautiful soup to hone in on what pieces of information or data we would like to obtain. Refer to the webscraping lecture notebook for an example walkthrough."
   ]
  },
  {
   "cell_type": "code",
   "execution_count": null,
   "id": "19b1748c-a1ee-4098-9bf5-c68becf9cadb",
   "metadata": {},
   "outputs": [],
   "source": []
  }
 ],
 "metadata": {
  "kernelspec": {
   "display_name": "Python 3",
   "language": "python",
   "name": "python3"
  },
  "language_info": {
   "codemirror_mode": {
    "name": "ipython",
    "version": 3
   },
   "file_extension": ".py",
   "mimetype": "text/x-python",
   "name": "python",
   "nbconvert_exporter": "python",
   "pygments_lexer": "ipython3",
   "version": "3.8.8"
  }
 },
 "nbformat": 4,
 "nbformat_minor": 5
}
